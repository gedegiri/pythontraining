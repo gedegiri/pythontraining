{
 "cells": [
  {
   "cell_type": "markdown",
   "metadata": {},
   "source": [
    "## Perulangan dan Percabangan"
   ]
  },
  {
   "cell_type": "code",
   "execution_count": null,
   "metadata": {},
   "outputs": [],
   "source": [
    "x = 0\n",
    "y =5\n",
    "## apapun nilai selain bukan angka 0 adalah true karena 0 adalah false"
   ]
  },
  {
   "cell_type": "code",
   "execution_count": null,
   "metadata": {},
   "outputs": [],
   "source": [
    "if x < y:\n",
    "    print(\"ya jelas!\")\n",
    "    \n",
    "if y > x:\n",
    "    print (\"true\")"
   ]
  },
  {
   "cell_type": "code",
   "execution_count": null,
   "metadata": {},
   "outputs": [],
   "source": [
    "if x:\n",
    "    print('true')"
   ]
  },
  {
   "cell_type": "code",
   "execution_count": null,
   "metadata": {},
   "outputs": [],
   "source": [
    "if y:\n",
    "    print('true')"
   ]
  },
  {
   "cell_type": "code",
   "execution_count": null,
   "metadata": {},
   "outputs": [],
   "source": [
    "if 'xyz' in 'abcxyzde':\n",
    "    print ('true')"
   ]
  },
  {
   "cell_type": "code",
   "execution_count": null,
   "metadata": {},
   "outputs": [],
   "source": [
    "if 'xyz' in 'abcd':\n",
    "    print ('true')\n",
    "    print ('bner lgo')\n",
    "    print('bner cuy')\n",
    "\n",
    "print ('Statement diluar')"
   ]
  },
  {
   "cell_type": "code",
   "execution_count": null,
   "metadata": {},
   "outputs": [],
   "source": [
    "if 'xyz' in 'abcd':\n",
    "    print ('true')\n",
    "    print ('bner lgo')\n",
    "    print('bner cuy')\n",
    "else :\n",
    "    print ('Statement diluar')"
   ]
  },
  {
   "cell_type": "code",
   "execution_count": null,
   "metadata": {},
   "outputs": [],
   "source": [
    "if 'foo' in ['foo', 'barr', 'baz']:\n",
    "    print ('outer condition 1')"
   ]
  },
  {
   "cell_type": "code",
   "execution_count": null,
   "metadata": {},
   "outputs": [],
   "source": [
    "age = 19\n",
    "if age  > 20 :\n",
    "    print ('boleh nongkib')\n",
    "    print ('bner minum')\n",
    "    print('bner cuy')\n",
    "else :\n",
    "    print ('Main game di rumah')"
   ]
  },
  {
   "cell_type": "code",
   "execution_count": null,
   "metadata": {},
   "outputs": [],
   "source": [
    "hargajagerbom = 90000\n",
    "hargakentang=15000\n",
    "uang= 75000"
   ]
  },
  {
   "cell_type": "code",
   "execution_count": null,
   "metadata": {},
   "outputs": [],
   "source": [
    "if uang > hargajagerbom & uang>hargakentang:\n",
    "   print('Party everyday')\n",
    "if uang>hargajagerbom:\n",
    "    print(\"minum jager\")\n",
    "elif uang > hargakentang:\n",
    "    print(\"makan kentang goreng\")\n",
    "else:\n",
    "    print(\"uang anda cukup\")"
   ]
  },
  {
   "cell_type": "code",
   "execution_count": null,
   "metadata": {},
   "outputs": [],
   "source": [
    "if 'a' in 'abc': print(1);print(2);print(3)"
   ]
  },
  {
   "cell_type": "code",
   "execution_count": null,
   "metadata": {},
   "outputs": [],
   "source": [
    "if uang>hargajagerbom: print(\"minum jager\")\n",
    "elif uang > hargakentang: print(\"makan kentang goreng\")\n",
    "else: print(\"uang anda cukup\");print('anda kismin')"
   ]
  },
  {
   "cell_type": "markdown",
   "metadata": {},
   "source": [
    "## Condotional Expression (ternary Operator)"
   ]
  },
  {
   "cell_type": "code",
   "execution_count": null,
   "metadata": {},
   "outputs": [],
   "source": [
    "age = 20\n",
    "\"bocah\" if age<20 else \"dewasa\"\n"
   ]
  },
  {
   "cell_type": "code",
   "execution_count": null,
   "metadata": {},
   "outputs": [],
   "source": [
    "raining = True\n",
    "print('Ayo kita pergi ke', 'pantaai' if not raining else 'mall')"
   ]
  },
  {
   "cell_type": "markdown",
   "metadata": {},
   "source": [
    "## 'While' Loops"
   ]
  },
  {
   "cell_type": "code",
   "execution_count": 2,
   "metadata": {},
   "outputs": [
    {
     "name": "stdout",
     "output_type": "stream",
     "text": [
      "4\n",
      "3\n",
      "2\n",
      "1\n",
      "0\n"
     ]
    }
   ],
   "source": [
    "n = 5\n",
    "\n",
    "while n > 0:\n",
    "    n -= 1\n",
    "    print (n)"
   ]
  },
  {
   "cell_type": "code",
   "execution_count": 4,
   "metadata": {},
   "outputs": [
    {
     "name": "stdout",
     "output_type": "stream",
     "text": [
      "5\n",
      "4\n",
      "3\n",
      "2\n",
      "1\n"
     ]
    }
   ],
   "source": [
    "n = 5\n",
    "\n",
    "while n > 0:\n",
    "    print (n)\n",
    "    n -= 1"
   ]
  },
  {
   "cell_type": "code",
   "execution_count": 7,
   "metadata": {},
   "outputs": [
    {
     "name": "stdout",
     "output_type": "stream",
     "text": [
      "6\n",
      "5\n",
      "4\n",
      "3\n",
      "loop done\n"
     ]
    }
   ],
   "source": [
    "n = 7\n",
    "\n",
    "while n > 0:\n",
    "    n -= 1\n",
    "    if n == 2:\n",
    "        break\n",
    "    print (n)\n",
    "print('loop done')"
   ]
  },
  {
   "cell_type": "code",
   "execution_count": 11,
   "metadata": {},
   "outputs": [
    {
     "name": "stdout",
     "output_type": "stream",
     "text": [
      "6\n",
      "5\n",
      "4\n",
      "3\n",
      "1\n",
      "0\n",
      "loop end\n"
     ]
    }
   ],
   "source": [
    "n = 7\n",
    "\n",
    "while n > 0:\n",
    "    n -= 1\n",
    "    if n == 2:\n",
    "     continue \n",
    "    print (n)\n",
    "print('loop end') \n"
   ]
  },
  {
   "cell_type": "code",
   "execution_count": 13,
   "metadata": {},
   "outputs": [
    {
     "name": "stdout",
     "output_type": "stream",
     "text": [
      "kons\n",
      ">> les\n",
      ">> mise\n",
      "tols\n",
      ">> les\n",
      ">> mise\n"
     ]
    }
   ],
   "source": [
    "a = ['kons','tols']\n",
    "\n",
    "while len(a):\n",
    "    print(a.pop(0))\n",
    "    \n",
    "    b=['les','mise']\n",
    "    while len(b):\n",
    "        print('>>', b.pop(0))"
   ]
  },
  {
   "cell_type": "markdown",
   "metadata": {},
   "source": [
    "## \"For\" Loops"
   ]
  },
  {
   "cell_type": "code",
   "execution_count": 15,
   "metadata": {},
   "outputs": [
    {
     "name": "stdout",
     "output_type": "stream",
     "text": [
      "1\n",
      "2\n",
      "3\n",
      "4\n",
      "5\n"
     ]
    }
   ],
   "source": [
    "d = [1,2,3,4,5]\n",
    "for i in d:\n",
    "    print (i)"
   ]
  },
  {
   "cell_type": "code",
   "execution_count": 20,
   "metadata": {},
   "outputs": [
    {
     "name": "stdout",
     "output_type": "stream",
     "text": [
      "les\n",
      "mis\n",
      "bar\n"
     ]
    }
   ],
   "source": [
    "d={'les':1, 'mis':3,'bar':5}\n",
    "for i in d:\n",
    "    print (i)"
   ]
  },
  {
   "cell_type": "code",
   "execution_count": 23,
   "metadata": {},
   "outputs": [
    {
     "name": "stdout",
     "output_type": "stream",
     "text": [
      "1\n",
      "3\n",
      "5\n"
     ]
    }
   ],
   "source": [
    "for i in d:\n",
    "    print (d[i])"
   ]
  },
  {
   "cell_type": "code",
   "execution_count": 32,
   "metadata": {},
   "outputs": [
    {
     "name": "stdout",
     "output_type": "stream",
     "text": [
      "masukan temprature yang anda sekarang, contoh 34F, 45C...45F\n",
      "temperaturnya adalah 7.222222222222222 derajat\n"
     ]
    }
   ],
   "source": [
    "temp=input ('masukan temprature yang anda sekarang, contoh 34F, 45C...')\n",
    "degree= int(temp[:-1])\n",
    "satuan = temp[-1]\n",
    "\n",
    "if satuan == 'C':\n",
    "    result= (9*degree)/5+23\n",
    "elif satuan =='F':\n",
    "    result = (degree-32)*5/9\n",
    "else:\n",
    "    print ('masukan inputan yg benar')\n",
    "print ('temperaturnya adalah', result,'derajat')"
   ]
  },
  {
   "cell_type": "code",
   "execution_count": 31,
   "metadata": {},
   "outputs": [
    {
     "name": "stdout",
     "output_type": "stream",
     "text": [
      "\n"
     ]
    }
   ],
   "source": [
    "print()"
   ]
  },
  {
   "cell_type": "code",
   "execution_count": 39,
   "metadata": {},
   "outputs": [
    {
     "name": "stdout",
     "output_type": "stream",
     "text": [
      "masukan temprature yang anda sekarang, contoh 34F, 45C...65ff\n"
     ]
    },
    {
     "data": {
      "text/plain": [
       "(65, 'f')"
      ]
     },
     "execution_count": 39,
     "metadata": {},
     "output_type": "execute_result"
    }
   ],
   "source": [
    "temp=input ('masukan temprature yang anda sekarang, contoh 34F, 45C...')\n",
    "degree= int(temp[:-2])\n",
    "satuan = temp[-1]\n",
    "degree, satuan"
   ]
  },
  {
   "cell_type": "code",
   "execution_count": null,
   "metadata": {},
   "outputs": [],
   "source": []
  }
 ],
 "metadata": {
  "kernelspec": {
   "display_name": "Python 3",
   "language": "python",
   "name": "python3"
  },
  "language_info": {
   "codemirror_mode": {
    "name": "ipython",
    "version": 3
   },
   "file_extension": ".py",
   "mimetype": "text/x-python",
   "name": "python",
   "nbconvert_exporter": "python",
   "pygments_lexer": "ipython3",
   "version": "3.8.3"
  }
 },
 "nbformat": 4,
 "nbformat_minor": 4
}
